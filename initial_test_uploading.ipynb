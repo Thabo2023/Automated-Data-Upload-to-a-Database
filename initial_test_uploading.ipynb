{
  "nbformat": 4,
  "nbformat_minor": 0,
  "metadata": {
    "colab": {
      "provenance": []
    },
    "kernelspec": {
      "name": "python3",
      "display_name": "Python 3"
    },
    "language_info": {
      "name": "python"
    }
  },
  "cells": [
    {
      "cell_type": "markdown",
      "source": [
        "**Read Bfore Running the cells:**\n",
        "- Run on Firefox\n",
        "- This is specifically for initial testing files only\n",
        "-It'll create a new entry in the TileDB database and attach a diary file inside it, which is the .txt file you will be uploading\n",
        "- It will also create a note to write down that it's Initial testing"
      ],
      "metadata": {
        "id": "udVVJqmEeXX4"
      }
    },
    {
      "cell_type": "code",
      "source": [
        "#Uncomment this part if not already installed\n",
        "\n",
        "'''\n",
        "!apt update\n",
        "!apt install -y firefox\n",
        "!wget -q https://github.com/mozilla/geckodriver/releases/latest/download/geckodriver-linux64.tar.gz\n",
        "!tar -xvzf geckodriver-linux64.tar.gz\n",
        "!chmod +x geckodriver\n",
        "!mv geckodriver /usr/local/bin/\n",
        "'''"
      ],
      "metadata": {
        "id": "Uiva3RafeVfL"
      },
      "execution_count": null,
      "outputs": []
    },
    {
      "cell_type": "code",
      "source": [
        "#Uncomment this part if not already installed\n",
        "'''\n",
        "!apt update > /dev/null\n",
        "!apt install -y firefox-esr > /dev/null\n",
        "!wget https://github.com/mozilla/geckodriver/releases/download/v0.33.0/geckodriver-v0.33.0-linux64.tar.gz > /dev/null\n",
        "!tar -xvzf geckodriver-v0.33.0-linux64.tar.gz > /dev/null\n",
        "!mv geckodriver /usr/local/bin/\n",
        "!pip install selenium > /dev/null\n",
        "'''\n"
      ],
      "metadata": {
        "id": "odedGzt1ia6V"
      },
      "execution_count": null,
      "outputs": []
    },
    {
      "cell_type": "markdown",
      "source": [],
      "metadata": {
        "id": "kal294sFzia0"
      }
    },
    {
      "cell_type": "code",
      "source": [
        "import os\n",
        "import time\n",
        "import traceback\n",
        "from datetime import datetime\n",
        "from selenium import webdriver\n",
        "from selenium.webdriver.firefox.options import Options\n",
        "from selenium.webdriver.common.by import By\n",
        "from selenium.webdriver.support.ui import WebDriverWait\n",
        "from selenium.webdriver.support import expected_conditions as EC\n"
      ],
      "metadata": {
        "id": "v9309d9Fzj48"
      },
      "execution_count": null,
      "outputs": []
    },
    {
      "cell_type": "code",
      "source": [
        "def create_logged_in_session(username, password):\n",
        "    options = Options()\n",
        "    options.add_argument('--headless')  # No browser window\n",
        "    options.add_argument('--no-sandbox')\n",
        "    options.add_argument('--disable-dev-shm-usage')\n",
        "\n",
        "    cli = webdriver.Firefox(options=options)\n",
        "    cli.get(\"https://www.particle.cz/work/TileDB2/account/login\")\n",
        "\n",
        "    try:\n",
        "        WebDriverWait(cli, 15).until(\n",
        "            EC.presence_of_element_located((By.ID, \"MainContent_loginEmailTxt\"))\n",
        "        )\n",
        "        cli.find_element(By.ID, \"MainContent_loginEmailTxt\").send_keys(username)\n",
        "        cli.find_element(By.ID, \"MainContent_loginPasswordTxt\").send_keys(password)\n",
        "        cli.find_element(By.ID, \"MainContent_LoginBtn\").click()\n",
        "\n",
        "        WebDriverWait(cli, 15).until(\n",
        "            EC.url_contains(\"TileDB2\")\n",
        "        )\n",
        "        print(\"[✅] Logged in successfully.\")\n",
        "    except Exception as e:\n",
        "        print(\"[❌] Login failed.\")\n",
        "        cli.save_screenshot(\"login_error.png\")\n",
        "        with open(\"login_error.html\", \"w\", encoding=\"utf-8\") as f:\n",
        "            f.write(cli.page_source)\n",
        "        raise e\n",
        "\n",
        "    return cli\n"
      ],
      "metadata": {
        "id": "ivTmxP3WzlUk"
      },
      "execution_count": null,
      "outputs": []
    },
    {
      "cell_type": "code",
      "source": [
        "import getpass\n",
        "\n",
        "username = input(\"▶Your TileDB Username Pretty Please, then Enter: \")\n",
        "password = getpass.getpass(\"👨🏻‍💻Your Password (Don't worry, no one sees it) (input hidden): \")\n",
        "\n",
        "cli = create_logged_in_session(username, password)\n",
        "\n"
      ],
      "metadata": {
        "colab": {
          "base_uri": "https://localhost:8080/"
        },
        "id": "roEPV7T9hArT",
        "outputId": "7b236a03-06ef-4edc-9f35-26147d950fe2"
      },
      "execution_count": null,
      "outputs": [
        {
          "name": "stdout",
          "output_type": "stream",
          "text": [
            "▶Your TileDB Username Pretty Please, then Enter: thabo.pilusa@cern.ch\n",
            "👨🏻‍💻Your Password (Don't worry, no one sees it) (input hidden): ··········\n"
          ]
        },
        {
          "output_type": "stream",
          "name": "stderr",
          "text": [
            "WARNING:selenium.webdriver.common.selenium_manager:The geckodriver version (0.33.0) detected in PATH at /usr/local/bin/geckodriver might not be compatible with the detected firefox version (138.0.3); currently, geckodriver 0.36.0 is recommended for firefox 138.*, so it is advised to delete the driver in PATH and retry\n"
          ]
        },
        {
          "output_type": "stream",
          "name": "stdout",
          "text": [
            "[✅] Logged in successfully.\n"
          ]
        }
      ]
    },
    {
      "cell_type": "code",
      "source": [
        "def batch_register(cli, base_path=\"Burn_In\"):\n",
        "    import os\n",
        "    import time\n",
        "    import traceback\n",
        "    from datetime import datetime\n",
        "    from selenium.webdriver.common.by import By\n",
        "    from selenium.webdriver.common.keys import Keys\n",
        "    from selenium.webdriver.support.ui import WebDriverWait\n",
        "    from selenium.webdriver.support import expected_conditions as EC\n",
        "    import re\n",
        "\n",
        "    os.makedirs(\"screenshots\", exist_ok=True)\n",
        "    os.makedirs(\"html_dumps\", exist_ok=True)\n",
        "\n",
        "    for file_name in sorted(os.listdir(base_path)):\n",
        "        if not file_name.endswith(\".txt\"):\n",
        "            continue\n",
        "\n",
        "        try:\n",
        "            name_without_ext = file_name[:-4]\n",
        "            parts = name_without_ext.split()\n",
        "\n",
        "            if len(parts) < 2:\n",
        "                print(f\"[⚠️] Could not extract date from '{file_name}'. Using today's date.\")\n",
        "                date_obj = datetime.today()\n",
        "            else:\n",
        "                date_str = parts[1].replace(\"-\", \".\")\n",
        "                date_obj = datetime.strptime(date_str, \"%m.%d.%Y\")\n",
        "\n",
        "            # Extract numeric Brick ID (3–4 digits) from filename like 'SA-100' or 'SA-1000'\n",
        "            match = re.search(r'(\\d{3,4})', parts[0])\n",
        "            if not match:\n",
        "                print(f\"[⚠️] Could not find numeric Brick ID in '{file_name}'\")\n",
        "                continue\n",
        "            suffix = match.group(1)\n",
        "            brick_id = f\"ISA{suffix}\"\n",
        "\n",
        "            print(f\"\\nRegistering: Brick '{brick_id}' from '{file_name}'\")\n",
        "\n",
        "            # Manufacture new Brick page\n",
        "            cli.get(\"https://www.particle.cz/work/TileDB2/brick10v/manufacture\")\n",
        "            WebDriverWait(cli, 15).until(EC.presence_of_element_located((By.ID, \"MainContent_brickCodeTxt\")))\n",
        "\n",
        "            # Uncheck prefix checkbox\n",
        "            try:\n",
        "                prefix_checkbox = cli.find_element(By.ID, \"MainContent_brickCodePrefixEnabled\")\n",
        "                if prefix_checkbox.is_selected():\n",
        "                    prefix_checkbox.click()\n",
        "                    print(\"[🧹] Unchecked 'Include code prefix'\")\n",
        "            except:\n",
        "                print(\"[⚠️] Could not uncheck prefix checkbox\")\n",
        "\n",
        "            # Fill Brick ID\n",
        "            cli.find_element(By.ID, \"MainContent_brickCodeTxt\").send_keys(brick_id)\n",
        "\n",
        "            # Location\n",
        "            location_input = cli.find_element(By.ID, \"MainContent_brickLocationCB_brickLocationCB_TextBox\")\n",
        "            location_input.clear()\n",
        "            location_input.send_keys(\"Wits\")\n",
        "            time.sleep(1)\n",
        "            location_input.send_keys(Keys.TAB)\n",
        "\n",
        "            # Manufacture Date\n",
        "            formatted_date = date_obj.strftime(\"%d.%m.%Y 00:00 AM\")\n",
        "            date_input = cli.find_element(By.ID, \"MainContent_brickCreatedTxt\")\n",
        "            date_input.clear()\n",
        "            date_input.send_keys(formatted_date)\n",
        "            date_input.send_keys(Keys.TAB)\n",
        "\n",
        "            # Note = filename\n",
        "            note_input = cli.find_element(By.ID, \"MainContent_brickNoteTxt\")\n",
        "            note_input.clear()\n",
        "            note_input.send_keys(f\"Data file: {file_name}\")\n",
        "\n",
        "            cli.save_screenshot(f\"screenshots/{brick_id}_before_submit.png\")\n",
        "\n",
        "            # Submit the form\n",
        "            save_btn = WebDriverWait(cli, 10).until(\n",
        "                EC.element_to_be_clickable((By.ID, \"MainContent_brickSaveBtn\"))\n",
        "            )\n",
        "            save_btn.click()\n",
        "            time.sleep(2)\n",
        "\n",
        "            # Handle alert if any\n",
        "            try:\n",
        "                WebDriverWait(cli, 3).until(EC.alert_is_present())\n",
        "                alert = cli.switch_to.alert\n",
        "                print(f\"[⚠️] Alert: {alert.text}\")\n",
        "                alert.accept()\n",
        "            except:\n",
        "                print(f\"[✅] Brick '{brick_id}' registered.\")\n",
        "\n",
        "            # After registration, upload .txt file as diary record\n",
        "            upload_diary_record(cli, brick_id, os.path.join(base_path, file_name))\n",
        "\n",
        "        except Exception as e:\n",
        "            print(f\"[❌] Error with '{file_name}': {e}\")\n",
        "            cli.save_screenshot(f\"screenshots/error_{brick_id}.png\")\n",
        "            with open(f\"html_dumps/error_{brick_id}.html\", \"w\", encoding=\"utf-8\") as f:\n",
        "                f.write(cli.page_source)\n",
        "            traceback.print_exc()\n"
      ],
      "metadata": {
        "id": "f53ocF4jzzkK"
      },
      "execution_count": null,
      "outputs": []
    },
    {
      "cell_type": "code",
      "source": [
        "def upload_diary_record(cli, brick_id, txt_file_path):\n",
        "    import os\n",
        "    import time\n",
        "    from selenium.webdriver.common.by import By\n",
        "    from selenium.webdriver.common.keys import Keys\n",
        "    from selenium.webdriver.support.ui import WebDriverWait\n",
        "    from selenium.webdriver.support import expected_conditions as EC\n",
        "\n",
        "    try:\n",
        "        print(f\"📎 Attaching diary file for '{brick_id}'\")\n",
        "\n",
        "        # Go to the measure page for this brick\n",
        "        cli.get(f\"https://www.particle.cz/work/TileDB2/brick10v/measure?partcode={brick_id}\")\n",
        "        WebDriverWait(cli, 10).until(EC.presence_of_element_located((By.ID, \"MainContent_measureFileUpl\")))\n",
        "\n",
        "        # Upload file\n",
        "        upload_input = cli.find_element(By.ID, \"MainContent_measureFileUpl\")\n",
        "        upload_input.send_keys(os.path.abspath(txt_file_path))\n",
        "\n",
        "        # Select author\n",
        "        author_box = cli.find_element(By.ID, \"MainContent_measureAuthorCB_measureAuthorCB_TextBox\")\n",
        "        author_box.clear()\n",
        "        author_box.send_keys(\"Thabo Pilusa\")\n",
        "        time.sleep(1)\n",
        "        author_box.send_keys(Keys.TAB)\n",
        "\n",
        "        # Note: set note to \"Passed Final Testing\"\n",
        "        note_area = cli.find_element(By.ID, \"MainContent_measureNoteTxt\")\n",
        "        note_area.clear()\n",
        "        note_area.send_keys(\"Passed Initial Testing\")\n",
        "\n",
        "        # Optional: you can adjust the date too if needed\n",
        "        date_input = cli.find_element(By.ID, \"MainContent_brickMeasuredTxt\")\n",
        "        date_input.clear()\n",
        "        date_input.send_keys(datetime.now().strftime(\"%d.%m.%Y %H:%M\"))\n",
        "        date_input.send_keys(Keys.TAB)\n",
        "\n",
        "        # Submit\n",
        "        save_btn = cli.find_element(By.ID, \"MainContent_brickMeasureBtn\")\n",
        "        save_btn.click()\n",
        "        time.sleep(2)\n",
        "\n",
        "        print(f\"[✅] Diary file uploaded for '{brick_id}'.\")\n",
        "\n",
        "    except Exception as e:\n",
        "        print(f\"[⚠️] Failed to upload diary for '{brick_id}': {e}\")\n"
      ],
      "metadata": {
        "id": "CAOBRQcSXjYq"
      },
      "execution_count": null,
      "outputs": []
    },
    {
      "cell_type": "code",
      "source": [
        "#Insert your own Directory to your input files\n",
        "#Files must be in this format usually from the testing stations: SA-001 8-23-2024 1-19 PM\n",
        "batch_register(cli, base_path=\"Final_Testing\")"
      ],
      "metadata": {
        "id": "zLtb9s9-mmRM"
      },
      "execution_count": null,
      "outputs": []
    }
  ]
}