{
  "nbformat": 4,
  "nbformat_minor": 0,
  "metadata": {
    "colab": {
      "provenance": []
    },
    "kernelspec": {
      "name": "python3",
      "display_name": "Python 3"
    },
    "language_info": {
      "name": "python"
    }
  },
  "cells": [
    {
      "cell_type": "code",
      "source": [
        "#Uncomment this part if not already installed\n",
        "\n",
        "'''\n",
        "!apt update\n",
        "!apt install -y firefox\n",
        "!wget -q https://github.com/mozilla/geckodriver/releases/latest/download/geckodriver-linux64.tar.gz\n",
        "!tar -xvzf geckodriver-linux64.tar.gz\n",
        "!chmod +x geckodriver\n",
        "!mv geckodriver /usr/local/bin/\n",
        "'''"
      ],
      "metadata": {
        "colab": {
          "base_uri": "https://localhost:8080/",
          "height": 55
        },
        "id": "Um_T0LhPqW1P",
        "outputId": "f485319c-722d-441e-d3fb-0413d3234996"
      },
      "execution_count": null,
      "outputs": [
        {
          "output_type": "execute_result",
          "data": {
            "text/plain": [
              "'\\n!apt update\\n!apt install -y firefox\\n!wget -q https://github.com/mozilla/geckodriver/releases/latest/download/geckodriver-linux64.tar.gz\\n!tar -xvzf geckodriver-linux64.tar.gz\\n!chmod +x geckodriver\\n!mv geckodriver /usr/local/bin/\\n'"
            ],
            "application/vnd.google.colaboratory.intrinsic+json": {
              "type": "string"
            }
          },
          "metadata": {},
          "execution_count": 10
        }
      ]
    },
    {
      "cell_type": "code",
      "source": [
        "#Uncomment this part if not already installed\n",
        "'''\n",
        "!apt update > /dev/null\n",
        "!apt install -y firefox-esr > /dev/null\n",
        "!wget https://github.com/mozilla/geckodriver/releases/download/v0.33.0/geckodriver-v0.33.0-linux64.tar.gz > /dev/null\n",
        "!tar -xvzf geckodriver-v0.33.0-linux64.tar.gz > /dev/null\n",
        "!mv geckodriver /usr/local/bin/\n",
        "!pip install selenium > /dev/null\n",
        "'''\n"
      ],
      "metadata": {
        "id": "odedGzt1ia6V"
      },
      "execution_count": null,
      "outputs": []
    },
    {
      "cell_type": "markdown",
      "source": [
        "**LOG IN TO TILEDB**"
      ],
      "metadata": {
        "id": "XP_-zKmjsppj"
      }
    },
    {
      "cell_type": "code",
      "source": [
        "from getpass import getpass\n",
        "\n",
        "username = input(\"Enter your TileDB username (email): \")\n",
        "password = getpass(\"Enter your TileDB password: \")\n"
      ],
      "metadata": {
        "id": "SKfpD2K6slCd"
      },
      "execution_count": null,
      "outputs": []
    },
    {
      "cell_type": "markdown",
      "source": [],
      "metadata": {
        "id": "kal294sFzia0"
      }
    },
    {
      "cell_type": "code",
      "source": [
        "import os, time, traceback\n",
        "from selenium import webdriver\n",
        "from selenium.webdriver.firefox.options import Options\n",
        "from selenium.webdriver.common.by import By\n",
        "from selenium.webdriver.common.keys import Keys\n",
        "from selenium.webdriver.support.ui import WebDriverWait\n",
        "from selenium.webdriver.support import expected_conditions as EC\n",
        "\n",
        "def create_logged_in_session(username, password):\n",
        "    options = Options()\n",
        "    options.add_argument('--headless')\n",
        "    options.add_argument('--no-sandbox')\n",
        "    options.add_argument('--disable-dev-shm-usage')\n",
        "    driver = webdriver.Firefox(options=options)\n",
        "    driver.get(\"https://www.particle.cz/work/TileDB2/account/login\")\n",
        "\n",
        "    try:\n",
        "        WebDriverWait(driver, 15).until(EC.presence_of_element_located((By.ID, \"MainContent_loginEmailTxt\")))\n",
        "        driver.find_element(By.ID, \"MainContent_loginEmailTxt\").send_keys(username)\n",
        "        driver.find_element(By.ID, \"MainContent_loginPasswordTxt\").send_keys(password)\n",
        "        driver.find_element(By.ID, \"MainContent_LoginBtn\").click()\n",
        "        WebDriverWait(driver, 15).until(EC.url_contains(\"TileDB2\"))\n",
        "        print(\"[✅] Logged in successfully.\")\n",
        "        return driver\n",
        "    except Exception as e:\n",
        "        print(\"[❌] Login failed.\")\n",
        "        driver.save_screenshot(\"login_error.png\")\n",
        "        with open(\"login_error.html\", \"w\", encoding=\"utf-8\") as f:\n",
        "            f.write(driver.page_source)\n",
        "        raise e\n"
      ],
      "metadata": {
        "id": "ivTmxP3WzlUk"
      },
      "execution_count": null,
      "outputs": []
    },
    {
      "cell_type": "code",
      "source": [
        "def batch_register(cli, base_path=\"Burn_In\"):\n",
        "    from datetime import datetime\n",
        "\n",
        "    os.makedirs(\"screenshots\", exist_ok=True)\n",
        "    os.makedirs(\"html_dumps\", exist_ok=True)\n",
        "\n",
        "    for file_name in sorted(os.listdir(base_path)):\n",
        "        if not file_name.lower().endswith(\".txt\"):\n",
        "            continue\n",
        "\n",
        "        try:\n",
        "            # Extract Brick ID (digits only) from filename like SA-076_6.TXT\n",
        "            raw_id = ''.join(filter(str.isdigit, file_name.split('_')[0]))\n",
        "            if len(raw_id) < 3:\n",
        "                print(f\"[⚠️] Skipping '{file_name}' – couldn't parse brick ID.\")\n",
        "                continue\n",
        "            brick_id = f\"FSA{raw_id}\".upper()[:6]\n",
        "\n",
        "            # Fallback: use today's date\n",
        "            date_obj = datetime.today()\n",
        "\n",
        "            print(f\"\\nRegistering: Brick '{brick_id}' from '{file_name}'\")\n",
        "\n",
        "            # Manufacture form\n",
        "            cli.get(\"https://www.particle.cz/work/TileDB2/brick10v/manufacture\")\n",
        "            WebDriverWait(cli, 15).until(EC.presence_of_element_located((By.ID, \"MainContent_brickCodeTxt\")))\n",
        "\n",
        "            # Uncheck prefix\n",
        "            try:\n",
        "                prefix_checkbox = cli.find_element(By.ID, \"MainContent_brickCodePrefixEnabled\")\n",
        "                if prefix_checkbox.is_selected():\n",
        "                    prefix_checkbox.click()\n",
        "                    print(\"[🧹] Unchecked 'Include code prefix'\")\n",
        "            except:\n",
        "                pass\n",
        "\n",
        "            # Brick ID\n",
        "            cli.find_element(By.ID, \"MainContent_brickCodeTxt\").send_keys(brick_id)\n",
        "\n",
        "            # Location\n",
        "            location_input = cli.find_element(By.ID, \"MainContent_brickLocationCB_brickLocationCB_TextBox\")\n",
        "            location_input.clear()\n",
        "            location_input.send_keys(\"Wits\")\n",
        "            time.sleep(1)\n",
        "            location_input.send_keys(Keys.TAB)\n",
        "\n",
        "            # Manufacture Date\n",
        "            formatted_date = date_obj.strftime(\"%d.%m.%Y 00:00 AM\")\n",
        "            date_input = cli.find_element(By.ID, \"MainContent_brickCreatedTxt\")\n",
        "            date_input.clear()\n",
        "            date_input.send_keys(formatted_date)\n",
        "            date_input.send_keys(Keys.TAB)\n",
        "\n",
        "            # Note\n",
        "            note_input = cli.find_element(By.ID, \"MainContent_brickNoteTxt\")\n",
        "            note_input.clear()\n",
        "            note_input.send_keys(\"Completed Burn-in Testing\")\n",
        "\n",
        "            # Save\n",
        "            WebDriverWait(cli, 10).until(EC.element_to_be_clickable((By.ID, \"MainContent_brickSaveBtn\"))).click()\n",
        "            time.sleep(2)\n",
        "\n",
        "            try:\n",
        "                WebDriverWait(cli, 3).until(EC.alert_is_present())\n",
        "                alert = cli.switch_to.alert\n",
        "                print(f\"[⚠️] Alert: {alert.text}\")\n",
        "                alert.accept()\n",
        "                continue  # Skip measurement if already exists\n",
        "            except:\n",
        "                print(f\"[✅] Brick '{brick_id}' registered.\")\n",
        "\n",
        "            # Upload .txt file\n",
        "            upload_diary_record(cli, brick_id, os.path.join(base_path, file_name))\n",
        "\n",
        "        except Exception as e:\n",
        "            print(f\"[❌] Error with '{file_name}': {e}\")\n",
        "            cli.save_screenshot(f\"screenshots/error_{brick_id}.png\")\n",
        "            with open(f\"html_dumps/error_{brick_id}.html\", \"w\", encoding=\"utf-8\") as f:\n",
        "                f.write(cli.page_source)\n",
        "            traceback.print_exc()\n"
      ],
      "metadata": {
        "id": "4Y37fnyrrTtV"
      },
      "execution_count": null,
      "outputs": []
    },
    {
      "cell_type": "code",
      "source": [
        "def upload_diary_record(cli, brick_id, filepath):\n",
        "    from datetime import datetime\n",
        "\n",
        "    print(f\"📎 Attaching diary file for '{brick_id}'\")\n",
        "\n",
        "    cli.get(f\"https://www.particle.cz/work/TileDB2/brick10v/measure?partcode={brick_id}\")\n",
        "    WebDriverWait(cli, 15).until(EC.presence_of_element_located((By.ID, \"MainContent_measureFileUpl\")))\n",
        "\n",
        "    # File input\n",
        "    file_input = cli.find_element(By.ID, \"MainContent_measureFileUpl\")\n",
        "    file_input.send_keys(os.path.abspath(filepath))\n",
        "\n",
        "    # Author\n",
        "    author_box = cli.find_element(By.ID, \"MainContent_measureAuthorCB_measureAuthorCB_TextBox\")\n",
        "    author_box.clear()\n",
        "    author_box.send_keys(\"Thabo Pilusa\")\n",
        "    time.sleep(1)\n",
        "    author_box.send_keys(Keys.TAB)\n",
        "\n",
        "    # Date\n",
        "    now_str = datetime.now().strftime(\"%d.%m.%Y %H:%M\")\n",
        "    measure_date_input = cli.find_element(By.ID, \"MainContent_brickMeasuredTxt\")\n",
        "    measure_date_input.clear()\n",
        "    measure_date_input.send_keys(now_str)\n",
        "\n",
        "    # Note\n",
        "    note_box = cli.find_element(By.ID, \"MainContent_measureNoteTxt\")\n",
        "    note_box.clear()\n",
        "    note_box.send_keys(\"Final test upload\")\n",
        "\n",
        "    # Submit\n",
        "    WebDriverWait(cli, 10).until(EC.element_to_be_clickable((By.ID, \"MainContent_brickMeasureBtn\"))).click()\n",
        "    print(f\"[✅] Uploaded diary file for '{brick_id}'\")\n"
      ],
      "metadata": {
        "id": "3PSyRkfvs9v1"
      },
      "execution_count": null,
      "outputs": []
    },
    {
      "cell_type": "code",
      "source": [
        "cli = create_logged_in_session(username, password)\n",
        "batch_register(cli, base_path=\"burnin_dataset_folder\")\n",
        "cli.quit()\n"
      ],
      "metadata": {
        "id": "yC4ApnJmtCnq"
      },
      "execution_count": null,
      "outputs": []
    }
  ]
}